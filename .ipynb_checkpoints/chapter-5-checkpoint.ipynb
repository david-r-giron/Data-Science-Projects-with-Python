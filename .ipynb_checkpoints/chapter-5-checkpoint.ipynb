{
 "cells": [
  {
   "cell_type": "markdown",
   "metadata": {},
   "source": [
    "# Chapter 5: Decision Trees and Random Forests\n",
    "\n",
    "#### From Stephen Klosterman's book DATA SCIENCE PROJECTS WITH PYTHON (2019).\n",
    "\n",
    "<h3>Goals:</h3>\n",
    "<ul>\n",
    "    <li>Train a decision tree model in scikit-learn</li>\n",
    "    <li>Use Graphviz to visualize a trained decision tree model</li>\n",
    "    <li>Formulate the cost functions used to split nodes in a decision tree</li>\n",
    "    <li>Perform a hyperparameter grid search using cross-validation with scikit-learn functions</li>\n",
    "    <li>Train a random forest model in scikit-learn</li>\n",
    "    <li>Evaluate the most important features in a random forest model</li>\n",
    "</ul>"
   ]
  },
  {
   "cell_type": "code",
   "execution_count": 1,
   "metadata": {},
   "outputs": [
    {
     "name": "stdout",
     "output_type": "stream",
     "text": [
      "The Python version is 3.7.6 (default, Jan  8 2020, 20:23:39) [MSC v.1916 64 bit (AMD64)].\n",
      "\n",
      "The Scikit-Learn version is 0.22.1.\n",
      "\n"
     ]
    }
   ],
   "source": [
    "import sys\n",
    "import numpy as np\n",
    "import pandas as pd\n",
    "import sklearn\n",
    "print('The Python version is {}.\\n'.format(sys.version))\n",
    "print('The Scikit-Learn version is {}.\\n'.format(sklearn.__version__))"
   ]
  },
  {
   "cell_type": "code",
   "execution_count": 2,
   "metadata": {},
   "outputs": [],
   "source": [
    "import matplotlib.pyplot as plt \n",
    "import matplotlib as mpl \n",
    "\n",
    "#Next line helps with rendering plots\n",
    "%matplotlib inline\n",
    "\n",
    "mpl.rcParams['figure.dpi'] = 100"
   ]
  },
  {
   "cell_type": "code",
   "execution_count": 3,
   "metadata": {},
   "outputs": [],
   "source": [
    "#!conda install graphviz\n",
    "#!conda install python-graphviz"
   ]
  },
  {
   "cell_type": "code",
   "execution_count": 4,
   "metadata": {},
   "outputs": [],
   "source": [
    "import graphviz #to visualize decision trees"
   ]
  },
  {
   "cell_type": "markdown",
   "metadata": {},
   "source": [
    "## Import and organize data"
   ]
  },
  {
   "cell_type": "code",
   "execution_count": 6,
   "metadata": {},
   "outputs": [],
   "source": [
    "df = pd.read_csv('Data/Chapter_1_cleaned_data_OLD.csv')\n",
    "\n",
    "features_response = df.columns.tolist()\n",
    "\n",
    "items_to_remove = ['ID', 'SEX', 'PAY_2', 'PAY_3', 'PAY_4', 'PAY_5', 'PAY_6',\n",
    "                   'EDUCATION_CAT', 'graduate school', 'high school', 'none',\n",
    "                   'others', 'university']\n",
    "\n",
    "features_response = [item for item in features_response if item not in items_to_remove]"
   ]
  },
  {
   "cell_type": "markdown",
   "metadata": {},
   "source": [
    "## Train a Decision Tree"
   ]
  },
  {
   "cell_type": "code",
   "execution_count": 7,
   "metadata": {},
   "outputs": [
    {
     "data": {
      "text/plain": [
       "DecisionTreeClassifier(ccp_alpha=0.0, class_weight=None, criterion='gini',\n",
       "                       max_depth=2, max_features=None, max_leaf_nodes=None,\n",
       "                       min_impurity_decrease=0.0, min_impurity_split=None,\n",
       "                       min_samples_leaf=1, min_samples_split=2,\n",
       "                       min_weight_fraction_leaf=0.0, presort='deprecated',\n",
       "                       random_state=None, splitter='best')"
      ]
     },
     "execution_count": 7,
     "metadata": {},
     "output_type": "execute_result"
    }
   ],
   "source": [
    "from sklearn.model_selection import train_test_split\n",
    "from sklearn import tree\n",
    "\n",
    "X_train, X_test, y_train, y_test = \\\n",
    "train_test_split(\n",
    "    df[features_response[:-1]].values, \n",
    "    df['default payment next month'].values,\n",
    "    test_size=0.2, \n",
    "    random_state=24)\n",
    "\n",
    "dt = tree.DecisionTreeClassifier(max_depth=2)\n",
    "\n",
    "dt.fit(X_train, y_train)"
   ]
  },
  {
   "cell_type": "markdown",
   "metadata": {},
   "source": [
    "## Plot the Decision Tree"
   ]
  },
  {
   "cell_type": "markdown",
   "metadata": {},
   "source": [
    "#### This saves a .dot file to disk, that could be turned in to an image file"
   ]
  },
  {
   "cell_type": "code",
   "execution_count": 8,
   "metadata": {},
   "outputs": [],
   "source": [
    "dot_data = tree.export_graphviz(\n",
    "    dt, \n",
    "    out_file=None,\n",
    "    filled=True, \n",
    "    rounded=True,\n",
    "    feature_names=features_response[:-1],\n",
    "    proportion=True, \n",
    "    class_names=['Not defaulted', 'Defaulted']) \n",
    "\n",
    "graph = graphviz.Source(dot_data) \n"
   ]
  },
  {
   "cell_type": "markdown",
   "metadata": {},
   "source": [
    "## Training Decision Trees: Node Impurity"
   ]
  },
  {
   "cell_type": "markdown",
   "metadata": {},
   "source": [
    "<p>The goal of training decision trees is to make splits so that the next two nodes after the split have a higher <strong>purity</strong>: that is to say, to take them closer to containing either only positive or only negative samples.</p>\n",
    "\n",
    "<p>The <strong>misclassification rate</strong> is simply the proportion of the less common class in that node, since all these samples will be misclassified when the majority class in that node is taken as the prediction.</p>\n",
    "\n",
    "<p>The algorithm considers each possible threshold for every candidate features and chooses the one that results in the lowest impurity, calculated as the average impurity across the two possible new nodes, weighted by the number of samples in each node.</p>\n",
    "\n",
    "<p>The two options that are available in scikit-learn for the impurity calculation, which you can specify with the <strong>criterion</strong> keyword argument, are the <strong>Gini impurity</strong> and the <strong>cross-entropy</strong> options.</p>\n",
    "\n",
    "<p>Like the misclassification rate, both the Gini impurity and the cross entropy are highest when the class fractions are equal to 0.5, and they decrease as the node becomes purer: in other words, when they contain a higher proportion of just one of the classes.</p>"
   ]
  },
  {
   "cell_type": "markdown",
   "metadata": {},
   "source": [
    "## Training Decision Trees: A Greedy Algorithm"
   ]
  },
  {
   "cell_type": "markdown",
   "metadata": {},
   "source": [
    "<p>There is no guarantee that a decision tree trained by the process described previously will be the best possible decision tree for finding leaf nodes with the lowest impurity. This is because the algorithm used to train decision trees is what is called a greedy algorithm. In this context, this means that, at each opportunity to split the node, the algorithm is looking for the best possible split at that point in time, without regard to the fact that the opportunities for later splits are being affected.</p>\n",
    "\n",
    "<p>The reason why we still use the algorithm is because it takes substantially longer to consider all possible splits in a way that enables finding the truly optimal tree. Despite this shortcoming of the decision tree training process, there are methods that you can use to reduce the possible harmful effects of the greedy algorithm:</p>\n",
    "\n",
    "<p>Instead of searching for the best split at each node, the <strong>splitter</strong> keyword argument to the decision tree class can be specified as <strong>random</strong> in order to choose a random feature to make a split on. However, the default is <strong>best</strong>, which separates all features for the best split.</p>\n",
    "\n",
    "<p>Another option is to limit the number of features using the <strong>max_features</strong> keyword, which will be searched at each splitting opportunity.</p>"
   ]
  },
  {
   "cell_type": "markdown",
   "metadata": {},
   "source": [
    "## Using Decision Trees: Advantages and Predicted Probabilities"
   ]
  },
  {
   "cell_type": "code",
   "execution_count": 9,
   "metadata": {},
   "outputs": [],
   "source": [
    "from sklearn.datasets import make_circles\n",
    "\n",
    "X_circ, y_circ = make_circles(n_samples = 300, shuffle=True,\n",
    "                             noise=0.1, random_state=1, factor=0.4)"
   ]
  },
  {
   "cell_type": "code",
   "execution_count": 10,
   "metadata": {},
   "outputs": [
    {
     "data": {
      "text/plain": [
       "[]"
      ]
     },
     "execution_count": 10,
     "metadata": {},
     "output_type": "execute_result"
    },
    {
     "data": {
      "image/png": "[encoded data removed]",
      "text/plain": [
       "<Figure size 600x400 with 1 Axes>"
      ]
     },
     "metadata": {},
     "output_type": "display_data"
    }
   ],
   "source": [
    "from matplotlib.colors import ListedColormap\n",
    "\n",
    "cm = plt.cm.RdBu\n",
    "cm_bright = ListedColormap(['#FF0000', '#0000FF'])\n",
    "\n",
    "ax = plt.axes()\n",
    "ax.scatter(X_circ[:,0], X_circ[:,1], c=y_circ, cmap=cm_bright)\n",
    "ax.set_aspect('equal')\n",
    "ax.set_title('Nonlinear data for classification')\n",
    "ax.set_xticks([])\n",
    "ax.set_yticks([])"
   ]
  },
  {
   "cell_type": "code",
   "execution_count": 11,
   "metadata": {},
   "outputs": [],
   "source": [
    "x_min, x_max = X_circ[:, 0].min() - .5, X_circ[:, 0].max() + .5\n",
    "y_min, y_max = X_circ[:, 1].min() - .5, X_circ[:, 1].max() + .5\n",
    "h = 0.02\n",
    "xx, yy = np.meshgrid(np.arange(x_min, x_max, h),\n",
    "                     np.arange(y_min, y_max, h))"
   ]
  },
  {
   "cell_type": "code",
   "execution_count": 12,
   "metadata": {},
   "outputs": [
    {
     "data": {
      "image/png": "[encoded data removed]",
      "text/plain": [
       "<Figure size 600x400 with 2 Axes>"
      ]
     },
     "metadata": {},
     "output_type": "display_data"
    }
   ],
   "source": [
    "from sklearn.linear_model import LogisticRegression\n",
    "\n",
    "classifiers = [tree.DecisionTreeClassifier(max_depth=4, random_state=4),\n",
    "              LogisticRegression()]\n",
    "titles = ['Decision tree', 'Logistic regression']\n",
    "\n",
    "counter = 1\n",
    "for classif in classifiers:\n",
    "    ax = plt.subplot(1, 2, counter)\n",
    "    classif.fit(X_circ, y_circ)\n",
    "    Z = classif.predict_proba(np.c_[xx.ravel(), yy.ravel()])[:,1]\n",
    "    Z = Z.reshape(xx.shape)\n",
    "    ax.contourf(xx, yy, Z, cmap=cm, alpha=0.8)\n",
    "    ax.scatter(X_circ[:,0], X_circ[:,1], c=y_circ, cmap=cm_bright)\n",
    "    ax.set_aspect('equal')\n",
    "    ax.set_title(titles[counter-1])\n",
    "    ax.set_xticks([])\n",
    "    ax.set_yticks([])\n",
    "    counter+=1"
   ]
  },
  {
   "cell_type": "markdown",
   "metadata": {},
   "source": [
    "## Exercise 20: Finding Optimal Hyperparameters for a Decision Tree"
   ]
  },
  {
   "cell_type": "code",
   "execution_count": 13,
   "metadata": {},
   "outputs": [
    {
     "name": "stdout",
     "output_type": "stream",
     "text": [
      "Fitting 4 folds for each of 7 candidates, totalling 28 fits\n"
     ]
    },
    {
     "name": "stderr",
     "output_type": "stream",
     "text": [
      "[Parallel(n_jobs=1)]: Using backend SequentialBackend with 1 concurrent workers.\n",
      "[Parallel(n_jobs=1)]: Done  28 out of  28 | elapsed:    2.3s finished\n"
     ]
    },
    {
     "data": {
      "text/plain": [
       "GridSearchCV(cv=4, error_score=nan,\n",
       "             estimator=DecisionTreeClassifier(ccp_alpha=0.0, class_weight=None,\n",
       "                                              criterion='gini', max_depth=2,\n",
       "                                              max_features=None,\n",
       "                                              max_leaf_nodes=None,\n",
       "                                              min_impurity_decrease=0.0,\n",
       "                                              min_impurity_split=None,\n",
       "                                              min_samples_leaf=1,\n",
       "                                              min_samples_split=2,\n",
       "                                              min_weight_fraction_leaf=0.0,\n",
       "                                              presort='deprecated',\n",
       "                                              random_state=None,\n",
       "                                              splitter='best'),\n",
       "             iid='deprecated', n_jobs=None,\n",
       "             param_grid={'max_depth': [1, 2, 4, 6, 8, 10, 12]},\n",
       "             pre_dispatch=None, refit=True, return_train_score=True,\n",
       "             scoring='roc_auc', verbose=1)"
      ]
     },
     "execution_count": 13,
     "metadata": {},
     "output_type": "execute_result"
    }
   ],
   "source": [
    "from sklearn.model_selection import GridSearchCV\n",
    "\n",
    "params = {'max_depth':[1, 2, 4, 6, 8, 10, 12]}\n",
    "\n",
    "cv = GridSearchCV(\n",
    "    dt, param_grid=params, \n",
    "    scoring='roc_auc', \n",
    "    n_jobs=None, \n",
    "    refit=True, \n",
    "    cv=4, \n",
    "    verbose=1,\n",
    "    pre_dispatch=None, \n",
    "    error_score=np.nan, \n",
    "    return_train_score=True)\n",
    "\n",
    "cv.fit(X_train, y_train)"
   ]
  },
  {
   "cell_type": "code",
   "execution_count": 14,
   "metadata": {},
   "outputs": [
    {
     "data": {
      "text/html": [
       "<div>\n",
       "<style scoped>\n",
       "    .dataframe tbody tr th:only-of-type {\n",
       "        vertical-align: middle;\n",
       "    }\n",
       "\n",
       "    .dataframe tbody tr th {\n",
       "        vertical-align: top;\n",
       "    }\n",
       "\n",
       "    .dataframe thead th {\n",
       "        text-align: right;\n",
       "    }\n",
       "</style>\n",
       "<table border=\"1\" class=\"dataframe\">\n",
       "  <thead>\n",
       "    <tr style=\"text-align: right;\">\n",
       "      <th></th>\n",
       "      <th>mean_fit_time</th>\n",
       "      <th>std_fit_time</th>\n",
       "      <th>mean_score_time</th>\n",
       "      <th>std_score_time</th>\n",
       "      <th>param_max_depth</th>\n",
       "      <th>params</th>\n",
       "      <th>split0_test_score</th>\n",
       "      <th>split1_test_score</th>\n",
       "      <th>split2_test_score</th>\n",
       "      <th>split3_test_score</th>\n",
       "      <th>mean_test_score</th>\n",
       "      <th>std_test_score</th>\n",
       "      <th>rank_test_score</th>\n",
       "      <th>split0_train_score</th>\n",
       "      <th>split1_train_score</th>\n",
       "      <th>split2_train_score</th>\n",
       "      <th>split3_train_score</th>\n",
       "      <th>mean_train_score</th>\n",
       "      <th>std_train_score</th>\n",
       "    </tr>\n",
       "  </thead>\n",
       "  <tbody>\n",
       "    <tr>\n",
       "      <th>0</th>\n",
       "      <td>0.015957</td>\n",
       "      <td>0.001222</td>\n",
       "      <td>0.001995</td>\n",
       "      <td>1.032383e-07</td>\n",
       "      <td>1</td>\n",
       "      <td>{'max_depth': 1}</td>\n",
       "      <td>0.639514</td>\n",
       "      <td>0.643398</td>\n",
       "      <td>0.651891</td>\n",
       "      <td>0.650753</td>\n",
       "      <td>0.646389</td>\n",
       "      <td>0.005136</td>\n",
       "      <td>7</td>\n",
       "      <td>0.648680</td>\n",
       "      <td>0.647384</td>\n",
       "      <td>0.644553</td>\n",
       "      <td>0.644934</td>\n",
       "      <td>0.646388</td>\n",
       "      <td>0.001712</td>\n",
       "    </tr>\n",
       "    <tr>\n",
       "      <th>1</th>\n",
       "      <td>0.028677</td>\n",
       "      <td>0.000819</td>\n",
       "      <td>0.001507</td>\n",
       "      <td>4.842342e-04</td>\n",
       "      <td>2</td>\n",
       "      <td>{'max_depth': 2}</td>\n",
       "      <td>0.695134</td>\n",
       "      <td>0.699022</td>\n",
       "      <td>0.713376</td>\n",
       "      <td>0.699510</td>\n",
       "      <td>0.701761</td>\n",
       "      <td>0.006917</td>\n",
       "      <td>5</td>\n",
       "      <td>0.704034</td>\n",
       "      <td>0.702700</td>\n",
       "      <td>0.698113</td>\n",
       "      <td>0.702535</td>\n",
       "      <td>0.701845</td>\n",
       "      <td>0.002232</td>\n",
       "    </tr>\n",
       "    <tr>\n",
       "      <th>2</th>\n",
       "      <td>0.048222</td>\n",
       "      <td>0.006393</td>\n",
       "      <td>0.000745</td>\n",
       "      <td>8.241547e-04</td>\n",
       "      <td>4</td>\n",
       "      <td>{'max_depth': 4}</td>\n",
       "      <td>0.732720</td>\n",
       "      <td>0.740116</td>\n",
       "      <td>0.746946</td>\n",
       "      <td>0.743731</td>\n",
       "      <td>0.740878</td>\n",
       "      <td>0.005294</td>\n",
       "      <td>2</td>\n",
       "      <td>0.756882</td>\n",
       "      <td>0.752256</td>\n",
       "      <td>0.749368</td>\n",
       "      <td>0.753055</td>\n",
       "      <td>0.752890</td>\n",
       "      <td>0.002682</td>\n",
       "    </tr>\n",
       "    <tr>\n",
       "      <th>3</th>\n",
       "      <td>0.077866</td>\n",
       "      <td>0.005450</td>\n",
       "      <td>0.001995</td>\n",
       "      <td>1.032383e-07</td>\n",
       "      <td>6</td>\n",
       "      <td>{'max_depth': 6}</td>\n",
       "      <td>0.744607</td>\n",
       "      <td>0.745757</td>\n",
       "      <td>0.752120</td>\n",
       "      <td>0.741588</td>\n",
       "      <td>0.746018</td>\n",
       "      <td>0.003838</td>\n",
       "      <td>1</td>\n",
       "      <td>0.782202</td>\n",
       "      <td>0.780125</td>\n",
       "      <td>0.775228</td>\n",
       "      <td>0.774776</td>\n",
       "      <td>0.778083</td>\n",
       "      <td>0.003171</td>\n",
       "    </tr>\n",
       "    <tr>\n",
       "      <th>4</th>\n",
       "      <td>0.102365</td>\n",
       "      <td>0.008811</td>\n",
       "      <td>0.002244</td>\n",
       "      <td>4.322607e-04</td>\n",
       "      <td>8</td>\n",
       "      <td>{'max_depth': 8}</td>\n",
       "      <td>0.728886</td>\n",
       "      <td>0.730574</td>\n",
       "      <td>0.750157</td>\n",
       "      <td>0.732376</td>\n",
       "      <td>0.735498</td>\n",
       "      <td>0.008553</td>\n",
       "      <td>3</td>\n",
       "      <td>0.811837</td>\n",
       "      <td>0.808353</td>\n",
       "      <td>0.803554</td>\n",
       "      <td>0.802046</td>\n",
       "      <td>0.806448</td>\n",
       "      <td>0.003887</td>\n",
       "    </tr>\n",
       "    <tr>\n",
       "      <th>5</th>\n",
       "      <td>0.124896</td>\n",
       "      <td>0.003343</td>\n",
       "      <td>0.002244</td>\n",
       "      <td>4.324310e-04</td>\n",
       "      <td>10</td>\n",
       "      <td>{'max_depth': 10}</td>\n",
       "      <td>0.709134</td>\n",
       "      <td>0.703213</td>\n",
       "      <td>0.714397</td>\n",
       "      <td>0.710404</td>\n",
       "      <td>0.709287</td>\n",
       "      <td>0.004009</td>\n",
       "      <td>4</td>\n",
       "      <td>0.848949</td>\n",
       "      <td>0.854159</td>\n",
       "      <td>0.841322</td>\n",
       "      <td>0.836819</td>\n",
       "      <td>0.845312</td>\n",
       "      <td>0.006700</td>\n",
       "    </tr>\n",
       "    <tr>\n",
       "      <th>6</th>\n",
       "      <td>0.143118</td>\n",
       "      <td>0.003181</td>\n",
       "      <td>0.002251</td>\n",
       "      <td>4.268056e-04</td>\n",
       "      <td>12</td>\n",
       "      <td>{'max_depth': 12}</td>\n",
       "      <td>0.672490</td>\n",
       "      <td>0.658266</td>\n",
       "      <td>0.680768</td>\n",
       "      <td>0.684518</td>\n",
       "      <td>0.674011</td>\n",
       "      <td>0.010078</td>\n",
       "      <td>6</td>\n",
       "      <td>0.887891</td>\n",
       "      <td>0.903254</td>\n",
       "      <td>0.885676</td>\n",
       "      <td>0.875499</td>\n",
       "      <td>0.888080</td>\n",
       "      <td>0.009929</td>\n",
       "    </tr>\n",
       "  </tbody>\n",
       "</table>\n",
       "</div>"
      ],
      "text/plain": [
       "   mean_fit_time  std_fit_time  mean_score_time  std_score_time  \\\n",
       "0       0.015957      0.001222         0.001995    1.032383e-07   \n",
       "1       0.028677      0.000819         0.001507    4.842342e-04   \n",
       "2       0.048222      0.006393         0.000745    8.241547e-04   \n",
       "3       0.077866      0.005450         0.001995    1.032383e-07   \n",
       "4       0.102365      0.008811         0.002244    4.322607e-04   \n",
       "5       0.124896      0.003343         0.002244    4.324310e-04   \n",
       "6       0.143118      0.003181         0.002251    4.268056e-04   \n",
       "\n",
       "  param_max_depth             params  split0_test_score  split1_test_score  \\\n",
       "0               1   {'max_depth': 1}           0.639514           0.643398   \n",
       "1               2   {'max_depth': 2}           0.695134           0.699022   \n",
       "2               4   {'max_depth': 4}           0.732720           0.740116   \n",
       "3               6   {'max_depth': 6}           0.744607           0.745757   \n",
       "4               8   {'max_depth': 8}           0.728886           0.730574   \n",
       "5              10  {'max_depth': 10}           0.709134           0.703213   \n",
       "6              12  {'max_depth': 12}           0.672490           0.658266   \n",
       "\n",
       "   split2_test_score  split3_test_score  mean_test_score  std_test_score  \\\n",
       "0           0.651891           0.650753         0.646389        0.005136   \n",
       "1           0.713376           0.699510         0.701761        0.006917   \n",
       "2           0.746946           0.743731         0.740878        0.005294   \n",
       "3           0.752120           0.741588         0.746018        0.003838   \n",
       "4           0.750157           0.732376         0.735498        0.008553   \n",
       "5           0.714397           0.710404         0.709287        0.004009   \n",
       "6           0.680768           0.684518         0.674011        0.010078   \n",
       "\n",
       "   rank_test_score  split0_train_score  split1_train_score  \\\n",
       "0                7            0.648680            0.647384   \n",
       "1                5            0.704034            0.702700   \n",
       "2                2            0.756882            0.752256   \n",
       "3                1            0.782202            0.780125   \n",
       "4                3            0.811837            0.808353   \n",
       "5                4            0.848949            0.854159   \n",
       "6                6            0.887891            0.903254   \n",
       "\n",
       "   split2_train_score  split3_train_score  mean_train_score  std_train_score  \n",
       "0            0.644553            0.644934          0.646388         0.001712  \n",
       "1            0.698113            0.702535          0.701845         0.002232  \n",
       "2            0.749368            0.753055          0.752890         0.002682  \n",
       "3            0.775228            0.774776          0.778083         0.003171  \n",
       "4            0.803554            0.802046          0.806448         0.003887  \n",
       "5            0.841322            0.836819          0.845312         0.006700  \n",
       "6            0.885676            0.875499          0.888080         0.009929  "
      ]
     },
     "execution_count": 14,
     "metadata": {},
     "output_type": "execute_result"
    }
   ],
   "source": [
    "cv_results_df = pd.DataFrame(cv.cv_results_)\n",
    "cv_results_df"
   ]
  },
  {
   "cell_type": "code",
   "execution_count": 15,
   "metadata": {},
   "outputs": [
    {
     "data": {
      "text/plain": [
       "Index(['mean_fit_time', 'std_fit_time', 'mean_score_time', 'std_score_time',\n",
       "       'param_max_depth', 'params', 'split0_test_score', 'split1_test_score',\n",
       "       'split2_test_score', 'split3_test_score', 'mean_test_score',\n",
       "       'std_test_score', 'rank_test_score', 'split0_train_score',\n",
       "       'split1_train_score', 'split2_train_score', 'split3_train_score',\n",
       "       'mean_train_score', 'std_train_score'],\n",
       "      dtype='object')"
      ]
     },
     "execution_count": 15,
     "metadata": {},
     "output_type": "execute_result"
    }
   ],
   "source": [
    "cv_results_df.columns"
   ]
  },
  {
   "cell_type": "code",
   "execution_count": 16,
   "metadata": {},
   "outputs": [
    {
     "data": {
      "text/plain": [
       "Text(0, 0.5, 'ROC AUC')"
      ]
     },
     "execution_count": 16,
     "metadata": {},
     "output_type": "execute_result"
    },
    {
     "data": {
      "image/png": "[encoded data removed]",
      "text/plain": [
       "<Figure size 600x400 with 1 Axes>"
      ]
     },
     "metadata": {
      "needs_background": "light"
     },
     "output_type": "display_data"
    }
   ],
   "source": [
    "ax = plt.axes()\n",
    "ax.errorbar(cv_results_df['param_max_depth'],\n",
    "            cv_results_df['mean_train_score'],\n",
    "            yerr=cv_results_df['std_train_score'],\n",
    "            label='Mean $\\pm$ 1 SD training scores')\n",
    "ax.errorbar(cv_results_df['param_max_depth'],\n",
    "            cv_results_df['mean_test_score'],\n",
    "            yerr=cv_results_df['std_test_score'],\n",
    "            label='Mean $\\pm$ 1 SD testing scores')\n",
    "ax.legend()\n",
    "plt.xlabel('max_depth')\n",
    "plt.ylabel('ROC AUC')"
   ]
  },
  {
   "cell_type": "code",
   "execution_count": 17,
   "metadata": {},
   "outputs": [
    {
     "data": {
      "text/plain": [
       "mean_fit_time          0.143118\n",
       "std_fit_time           0.008811\n",
       "mean_score_time        0.002251\n",
       "std_score_time         0.000824\n",
       "param_max_depth       12.000000\n",
       "split0_test_score      0.744607\n",
       "split1_test_score      0.745757\n",
       "split2_test_score      0.752120\n",
       "split3_test_score      0.743731\n",
       "mean_test_score        0.746018\n",
       "std_test_score         0.010078\n",
       "rank_test_score        7.000000\n",
       "split0_train_score     0.887891\n",
       "split1_train_score     0.903254\n",
       "split2_train_score     0.885676\n",
       "split3_train_score     0.875499\n",
       "mean_train_score       0.888080\n",
       "std_train_score        0.009929\n",
       "dtype: float64"
      ]
     },
     "execution_count": 17,
     "metadata": {},
     "output_type": "execute_result"
    }
   ],
   "source": [
    "cv_results_df.max()"
   ]
  },
  {
   "cell_type": "markdown",
   "metadata": {},
   "source": [
    "## Exercise 21: Fitting a Random Forest"
   ]
  },
  {
   "cell_type": "code",
   "execution_count": 18,
   "metadata": {},
   "outputs": [],
   "source": [
    "from sklearn.ensemble import RandomForestClassifier\n",
    "\n",
    "rf = RandomForestClassifier(\n",
    "    n_estimators=10, \n",
    "    criterion='gini', \n",
    "    max_depth=3,\n",
    "    min_samples_split=2, \n",
    "    min_samples_leaf=1, \n",
    "    min_weight_fraction_leaf=0.0,\n",
    "    max_features='auto', \n",
    "    max_leaf_nodes=None, \n",
    "    min_impurity_decrease=0.0,\n",
    "    min_impurity_split=None, \n",
    "    bootstrap=True, \n",
    "    oob_score=False, \n",
    "    n_jobs=None,\n",
    "    random_state=4, \n",
    "    verbose=0, \n",
    "    warm_start=False, \n",
    "    class_weight=None)"
   ]
  },
  {
   "cell_type": "code",
   "execution_count": 20,
   "metadata": {},
   "outputs": [
    {
     "name": "stdout",
     "output_type": "stream",
     "text": [
      "Fitting 4 folds for each of 10 candidates, totalling 40 fits\n"
     ]
    },
    {
     "name": "stderr",
     "output_type": "stream",
     "text": [
      "[Parallel(n_jobs=1)]: Using backend SequentialBackend with 1 concurrent workers.\n",
      "[Parallel(n_jobs=1)]: Done  40 out of  40 | elapsed:   18.9s finished\n"
     ]
    }
   ],
   "source": [
    "from sklearn.model_selection import GridSearchCV\n",
    "\n",
    "rf_params_ex = {'n_estimators':list(range(10,110,10))}\n",
    "\n",
    "cv_rf_ex = GridSearchCV(\n",
    "    rf, \n",
    "    param_grid=rf_params_ex, \n",
    "    scoring='roc_auc', \n",
    "    n_jobs=None, \n",
    "    refit=True, \n",
    "    cv=4, \n",
    "    verbose=1,\n",
    "    pre_dispatch=None, \n",
    "    error_score=np.nan, \n",
    "    return_train_score=True)\n",
    "\n",
    "cv_rf_ex.fit(X_train, y_train)\n",
    "\n",
    "cv_rf_ex_results_df = pd.DataFrame(cv_rf_ex.cv_results_)"
   ]
  },
  {
   "cell_type": "code",
   "execution_count": 21,
   "metadata": {},
   "outputs": [
    {
     "data": {
      "text/plain": [
       "mean_fit_time           0.745025\n",
       "std_fit_time            0.020550\n",
       "mean_score_time         0.027418\n",
       "std_score_time          0.003964\n",
       "param_n_estimators    100.000000\n",
       "split0_test_score       0.748437\n",
       "split1_test_score       0.755878\n",
       "split2_test_score       0.779478\n",
       "split3_test_score       0.773134\n",
       "mean_test_score         0.763651\n",
       "std_test_score          0.014656\n",
       "rank_test_score        10.000000\n",
       "split0_train_score      0.775419\n",
       "split1_train_score      0.774025\n",
       "split2_train_score      0.766133\n",
       "split3_train_score      0.767032\n",
       "mean_train_score        0.770550\n",
       "std_train_score         0.004191\n",
       "dtype: float64"
      ]
     },
     "execution_count": 21,
     "metadata": {},
     "output_type": "execute_result"
    }
   ],
   "source": [
    "cv_rf_ex_results_df.max()"
   ]
  },
  {
   "cell_type": "code",
   "execution_count": 22,
   "metadata": {},
   "outputs": [
    {
     "data": {
      "image/png": "[encoded data removed]",
      "text/plain": [
       "<Figure size 600x300 with 2 Axes>"
      ]
     },
     "metadata": {
      "needs_background": "light"
     },
     "output_type": "display_data"
    }
   ],
   "source": [
    "fig, axs = plt.subplots(nrows=1, ncols=2, figsize=(6, 3))\n",
    "axs[0].plot(cv_rf_ex_results_df['param_n_estimators'],\n",
    "            cv_rf_ex_results_df['mean_fit_time'],\n",
    "            '-o')\n",
    "axs[0].set_xlabel('Number of trees')\n",
    "axs[0].set_ylabel('Mean fit time (seconds)')\n",
    "axs[1].errorbar(cv_rf_ex_results_df['param_n_estimators'],\n",
    "                cv_rf_ex_results_df['mean_test_score'],\n",
    "                yerr=cv_rf_ex_results_df['std_test_score'])\n",
    "axs[1].set_xlabel('Number of trees')\n",
    "axs[1].set_ylabel('Mean testing ROC AUC $\\pm$ 1 SD ')\n",
    "plt.tight_layout()"
   ]
  },
  {
   "cell_type": "code",
   "execution_count": 23,
   "metadata": {},
   "outputs": [
    {
     "data": {
      "text/plain": [
       "{'n_estimators': 50}"
      ]
     },
     "execution_count": 23,
     "metadata": {},
     "output_type": "execute_result"
    }
   ],
   "source": [
    "cv_rf_ex.best_params_"
   ]
  },
  {
   "cell_type": "code",
   "execution_count": 24,
   "metadata": {},
   "outputs": [
    {
     "data": {
      "text/html": [
       "<div>\n",
       "<style scoped>\n",
       "    .dataframe tbody tr th:only-of-type {\n",
       "        vertical-align: middle;\n",
       "    }\n",
       "\n",
       "    .dataframe tbody tr th {\n",
       "        vertical-align: top;\n",
       "    }\n",
       "\n",
       "    .dataframe thead th {\n",
       "        text-align: right;\n",
       "    }\n",
       "</style>\n",
       "<table border=\"1\" class=\"dataframe\">\n",
       "  <thead>\n",
       "    <tr style=\"text-align: right;\">\n",
       "      <th></th>\n",
       "      <th>Feature name</th>\n",
       "      <th>Importance</th>\n",
       "    </tr>\n",
       "  </thead>\n",
       "  <tbody>\n",
       "    <tr>\n",
       "      <th>4</th>\n",
       "      <td>PAY_1</td>\n",
       "      <td>0.609609</td>\n",
       "    </tr>\n",
       "    <tr>\n",
       "      <th>11</th>\n",
       "      <td>PAY_AMT1</td>\n",
       "      <td>0.094123</td>\n",
       "    </tr>\n",
       "    <tr>\n",
       "      <th>0</th>\n",
       "      <td>LIMIT_BAL</td>\n",
       "      <td>0.079265</td>\n",
       "    </tr>\n",
       "    <tr>\n",
       "      <th>13</th>\n",
       "      <td>PAY_AMT3</td>\n",
       "      <td>0.047067</td>\n",
       "    </tr>\n",
       "    <tr>\n",
       "      <th>12</th>\n",
       "      <td>PAY_AMT2</td>\n",
       "      <td>0.035393</td>\n",
       "    </tr>\n",
       "    <tr>\n",
       "      <th>6</th>\n",
       "      <td>BILL_AMT2</td>\n",
       "      <td>0.022422</td>\n",
       "    </tr>\n",
       "    <tr>\n",
       "      <th>14</th>\n",
       "      <td>PAY_AMT4</td>\n",
       "      <td>0.021164</td>\n",
       "    </tr>\n",
       "    <tr>\n",
       "      <th>15</th>\n",
       "      <td>PAY_AMT5</td>\n",
       "      <td>0.015962</td>\n",
       "    </tr>\n",
       "    <tr>\n",
       "      <th>10</th>\n",
       "      <td>BILL_AMT6</td>\n",
       "      <td>0.014293</td>\n",
       "    </tr>\n",
       "    <tr>\n",
       "      <th>8</th>\n",
       "      <td>BILL_AMT4</td>\n",
       "      <td>0.013454</td>\n",
       "    </tr>\n",
       "    <tr>\n",
       "      <th>7</th>\n",
       "      <td>BILL_AMT3</td>\n",
       "      <td>0.013321</td>\n",
       "    </tr>\n",
       "    <tr>\n",
       "      <th>16</th>\n",
       "      <td>PAY_AMT6</td>\n",
       "      <td>0.011831</td>\n",
       "    </tr>\n",
       "    <tr>\n",
       "      <th>9</th>\n",
       "      <td>BILL_AMT5</td>\n",
       "      <td>0.011264</td>\n",
       "    </tr>\n",
       "    <tr>\n",
       "      <th>5</th>\n",
       "      <td>BILL_AMT1</td>\n",
       "      <td>0.008574</td>\n",
       "    </tr>\n",
       "    <tr>\n",
       "      <th>1</th>\n",
       "      <td>EDUCATION</td>\n",
       "      <td>0.001630</td>\n",
       "    </tr>\n",
       "    <tr>\n",
       "      <th>3</th>\n",
       "      <td>AGE</td>\n",
       "      <td>0.000459</td>\n",
       "    </tr>\n",
       "    <tr>\n",
       "      <th>2</th>\n",
       "      <td>MARRIAGE</td>\n",
       "      <td>0.000170</td>\n",
       "    </tr>\n",
       "  </tbody>\n",
       "</table>\n",
       "</div>"
      ],
      "text/plain": [
       "   Feature name  Importance\n",
       "4         PAY_1    0.609609\n",
       "11     PAY_AMT1    0.094123\n",
       "0     LIMIT_BAL    0.079265\n",
       "13     PAY_AMT3    0.047067\n",
       "12     PAY_AMT2    0.035393\n",
       "6     BILL_AMT2    0.022422\n",
       "14     PAY_AMT4    0.021164\n",
       "15     PAY_AMT5    0.015962\n",
       "10    BILL_AMT6    0.014293\n",
       "8     BILL_AMT4    0.013454\n",
       "7     BILL_AMT3    0.013321\n",
       "16     PAY_AMT6    0.011831\n",
       "9     BILL_AMT5    0.011264\n",
       "5     BILL_AMT1    0.008574\n",
       "1     EDUCATION    0.001630\n",
       "3           AGE    0.000459\n",
       "2      MARRIAGE    0.000170"
      ]
     },
     "execution_count": 24,
     "metadata": {},
     "output_type": "execute_result"
    }
   ],
   "source": [
    "feat_imp_df = pd.DataFrame({\n",
    "    'Feature name':features_response[:-1],\n",
    "    'Importance':cv_rf_ex.best_estimator_.feature_importances_\n",
    "})\n",
    "\n",
    "feat_imp_df.sort_values('Importance', ascending=False)"
   ]
  }
 ],
 "metadata": {
  "kernelspec": {
   "display_name": "Python 3",
   "language": "python",
   "name": "python3"
  },
  "language_info": {
   "codemirror_mode": {
    "name": "ipython",
    "version": 3
   },
   "file_extension": ".py",
   "mimetype": "text/x-python",
   "name": "python",
   "nbconvert_exporter": "python",
   "pygments_lexer": "ipython3",
   "version": "3.7.6"
  }
 },
 "nbformat": 4,
 "nbformat_minor": 4
}
